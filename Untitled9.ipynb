{
  "nbformat": 4,
  "nbformat_minor": 0,
  "metadata": {
    "colab": {
      "provenance": [],
      "authorship_tag": "ABX9TyOdaql1OXbDu2I2tzfAr+1h",
      "include_colab_link": true
    },
    "kernelspec": {
      "name": "python3",
      "display_name": "Python 3"
    },
    "language_info": {
      "name": "python"
    }
  },
  "cells": [
    {
      "cell_type": "markdown",
      "metadata": {
        "id": "view-in-github",
        "colab_type": "text"
      },
      "source": [
        "<a href=\"https://colab.research.google.com/github/kesavakrishna/Price-pred/blob/main/Untitled9.ipynb\" target=\"_parent\"><img src=\"https://colab.research.google.com/assets/colab-badge.svg\" alt=\"Open In Colab\"/></a>"
      ]
    },
    {
      "cell_type": "code",
      "execution_count": 7,
      "metadata": {
        "colab": {
          "base_uri": "https://localhost:8080/"
        },
        "id": "KkU6acDZQRLX",
        "outputId": "ef95ef5a-615d-4ec8-a148-773701ab8395"
      },
      "outputs": [
        {
          "output_type": "stream",
          "name": "stdout",
          "text": [
            "2012-01-04\n",
            "2023-03-15\n"
          ]
        }
      ],
      "source": [
        "import pandas as pd\n",
        "\n",
        "# Create a DataFrame with your date column\n",
        "df = pd.read_csv('/content/FTSE Malaysia_updated_features.csv')\n",
        "\n",
        "# Reverse the order of the rows\n",
        "df_reversed = df.iloc[::-1]\n",
        "\n",
        "# Check the first and last dates\n",
        "print(df_reversed.iloc[0]['Date']) # Output: 2023-03-15 00:00:00\n",
        "print(df_reversed.iloc[-1]['Date']) # Output: 2012-01-04 00:00:00\n",
        "df_reversed.to_csv(\"Malay.csv\")"
      ]
    }
  ]
}